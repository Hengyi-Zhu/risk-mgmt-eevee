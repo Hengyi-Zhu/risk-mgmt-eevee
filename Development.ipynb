{
 "cells": [
  {
   "cell_type": "code",
   "execution_count": 212,
   "metadata": {
    "collapsed": false
   },
   "outputs": [],
   "source": [
    "# import packages\n",
    "\n",
    "import pandas_datareader.data as web\n",
    "import datetime\n",
    "import pandas as pd\n",
    "import numpy as np\n",
    "import scipy.stats as stat"
   ]
  },
  {
   "cell_type": "code",
   "execution_count": 213,
   "metadata": {
    "collapsed": false,
    "scrolled": true
   },
   "outputs": [],
   "source": [
    "# set up the parameters\n",
    "\n",
    "start = datetime.datetime(2010, 1, 1)\n",
    "end = datetime.datetime(2016, 1, 1)\n",
    "\n",
    "v0 = 1000000   # initial investment\n",
    "\n",
    "tickers_string = \"AAPL,AMZN,MSFT,GOOG\"   # a string; as an example, tickers separated by comma.\n",
    "tickers_list = tickers_string.split(\",\")  # split the string by the commas into a list of strings\n",
    "tickers_num = len(tickers_list)\n",
    "\n",
    "weight_string = \"0.25,0.25,0.25,0.25\"\n",
    "weight_list = map(float, weight_string.split(\",\"))  \n",
    "# split the string by the commas, and map each string in the resulting list into a float\n",
    "\n",
    "VaR_prob = 0.99\n",
    "ES_prob = 0.975\n",
    "window = 2 # Using x years historical data for estimation\n",
    "window_days = window * 252   \n",
    "horizon_days = 5 # x days VaR/ES\n",
    "horizon = horizon_days/252"
   ]
  },
  {
   "cell_type": "code",
   "execution_count": 214,
   "metadata": {
    "collapsed": false
   },
   "outputs": [],
   "source": [
    "d={}\n",
    "for ticker in tickers_list:\n",
    "    d[\"{0}\".format(ticker)] = web.DataReader(ticker, 'yahoo', start, end)['Adj Close'].rename(ticker)\n",
    "df = pd.DataFrame(d).sort_index(ascending = False)       \n",
    "# create a pandas dataframe where each column is the Adjusted Close price for the respective ticker"
   ]
  },
  {
   "cell_type": "code",
   "execution_count": 215,
   "metadata": {
    "collapsed": true
   },
   "outputs": [],
   "source": [
    "# Calculate estimated parameters based on x year rolling windows\n",
    "def gbm_est(prices, window_days):\n",
    "    rtn = -np.diff(np.log(prices))\n",
    "    rtnsq = rtn * rtn\n",
    "    mubar = list(reversed(np.convolve(rtn, np.ones((window_days,))/window_days, mode='valid')))\n",
    "    x2bar = list(reversed(np.convolve(rtnsq, np.ones((window_days,))/window_days, mode='valid')))\n",
    "    var = x2bar - np.square(mubar)\n",
    "    sigmabar = np.sqrt(np.maximum(var, np.zeros(len(var))))\n",
    "    sigma = sigmabar / np.sqrt(1/252)\n",
    "    mu = np.array(mubar)*252 + np.square(sigma)/2\n",
    "    return rtn, mu, sigma, mubar, sigmabar"
   ]
  },
  {
   "cell_type": "code",
   "execution_count": 216,
   "metadata": {
    "collapsed": false
   },
   "outputs": [],
   "source": [
    "# test with AAPL \n",
    "x = df[\"AAPL\"]\n",
    "rtn, mu, sigma, mubar, sigmabar = gbm_est(x, window_days)"
   ]
  },
  {
   "cell_type": "code",
   "execution_count": 217,
   "metadata": {
    "collapsed": true
   },
   "outputs": [],
   "source": [
    "# Calculate VaR assuming gbm \n",
    "def gbm_VaR(v0, mu, sigma, p, t):\n",
    "    VaR = v0 - v0 * np.exp(sigma * np.sqrt(t) * stat.norm.ppf(1-p) + (mu - np.square(sigma)/2) * t)\n",
    "    return VaR"
   ]
  },
  {
   "cell_type": "code",
   "execution_count": 218,
   "metadata": {
    "collapsed": true
   },
   "outputs": [],
   "source": [
    "VaR = gbm_VaR(v0, mu, sigma, VaR_prob, horizon)"
   ]
  },
  {
   "cell_type": "code",
   "execution_count": 234,
   "metadata": {
    "collapsed": false
   },
   "outputs": [
    {
     "data": {
      "text/plain": [
       "array([ 76980.60738557,  76952.01066241,  76644.70878177, ...,\n",
       "        73332.18067359,  73385.25958295,  73757.91043265])"
      ]
     },
     "execution_count": 234,
     "metadata": {},
     "output_type": "execute_result"
    }
   ],
   "source": [
    "VaR"
   ]
  },
  {
   "cell_type": "code",
   "execution_count": 231,
   "metadata": {
    "collapsed": true
   },
   "outputs": [],
   "source": [
    "# Calculate ES assuming gbm\n",
    "def gbm_ES(v0, mu, sigma, p, t):\n",
    "    ES = v0 * (1 - np.array(stat.norm.cdf(stat.norm.ppf(1-p) - np.sqrt(t)*sigma)) * np.array(np.exp(mu*t)/(1-p)))\n",
    "    return ES"
   ]
  },
  {
   "cell_type": "code",
   "execution_count": 235,
   "metadata": {
    "collapsed": true
   },
   "outputs": [],
   "source": [
    "ES = gbm_ES(v0, mu, sigma, ES_prob, horizon)"
   ]
  },
  {
   "cell_type": "code",
   "execution_count": 236,
   "metadata": {
    "collapsed": false
   },
   "outputs": [
    {
     "data": {
      "text/plain": [
       "array([ 77299.95452569,  77271.38203784,  76964.00403671, ...,\n",
       "        73632.3490151 ,  73685.48844844,  74058.30004314])"
      ]
     },
     "execution_count": 236,
     "metadata": {},
     "output_type": "execute_result"
    }
   ],
   "source": [
    "ES"
   ]
  }
 ],
 "metadata": {
  "anaconda-cloud": {},
  "kernelspec": {
   "display_name": "Python [conda root]",
   "language": "python",
   "name": "conda-root-py"
  },
  "language_info": {
   "codemirror_mode": {
    "name": "ipython",
    "version": 3
   },
   "file_extension": ".py",
   "mimetype": "text/x-python",
   "name": "python",
   "nbconvert_exporter": "python",
   "pygments_lexer": "ipython3",
   "version": "3.5.2"
  }
 },
 "nbformat": 4,
 "nbformat_minor": 1
}
