{
 "cells": [
  {
   "cell_type": "code",
   "execution_count": 2,
   "metadata": {
    "collapsed": false
   },
   "outputs": [],
   "source": [
    "import pandas_datareader.data as web"
   ]
  },
  {
   "cell_type": "code",
   "execution_count": 1,
   "metadata": {
    "collapsed": true
   },
   "outputs": [
    {
     "ename": "NameError",
     "evalue": "name 'web' is not defined",
     "output_type": "error",
     "traceback": [
      "\u001b[0;31m---------------------------------------------------------------------------\u001b[0m",
      "\u001b[0;31mNameError\u001b[0m                                 Traceback (most recent call last)",
      "\u001b[0;32m<ipython-input-1-a12b7bdfd501>\u001b[0m in \u001b[0;36m<module>\u001b[0;34m()\u001b[0m\n\u001b[0;32m----> 1\u001b[0;31m \u001b[0mamzn\u001b[0m \u001b[1;33m=\u001b[0m \u001b[0mweb\u001b[0m\u001b[1;33m.\u001b[0m\u001b[0mget_quote_yahoo\u001b[0m\u001b[1;33m(\u001b[0m\u001b[1;34m'AMZN'\u001b[0m\u001b[1;33m)\u001b[0m\u001b[1;33m\u001b[0m\u001b[0m\n\u001b[0m\u001b[1;32m      2\u001b[0m \u001b[0mamzn\u001b[0m\u001b[1;33m\u001b[0m\u001b[0m\n",
      "\u001b[0;31mNameError\u001b[0m: name 'web' is not defined"
     ]
    }
   ],
   "source": [
    "amzn = web.get_quote_yahoo('AMZN')\n",
    "amzn"
   ]
  },
  {
   "cell_type": "code",
   "execution_count": 6,
   "metadata": {
    "collapsed": false,
    "scrolled": true
   },
   "outputs": [
    {
     "data": {
      "text/plain": [
       "Open         1.017000e+01\n",
       "High         1.028000e+01\n",
       "Low          1.005000e+01\n",
       "Close        1.028000e+01\n",
       "Volume       6.085580e+07\n",
       "Adj Close    8.554412e+00\n",
       "Name: 2010-01-04 00:00:00, dtype: float64"
      ]
     },
     "execution_count": 6,
     "metadata": {},
     "output_type": "execute_result"
    }
   ],
   "source": [
    "import datetime\n",
    "\n",
    "start = datetime.datetime(2010, 1, 1)\n",
    "\n",
    "end = datetime.datetime(2013, 1, 27)\n",
    "\n",
    "f = web.DataReader(\"F\", 'yahoo', start, end)\n",
    "\n",
    "f.ix['2010-01-04']"
   ]
  },
  {
   "cell_type": "code",
   "execution_count": 8,
   "metadata": {
    "collapsed": false,
    "scrolled": true
   },
   "outputs": [
    {
     "data": {
      "text/plain": [
       "Date\n",
       "2010-01-04     8.554412\n",
       "2010-01-05     9.120268\n",
       "2010-01-06     9.461446\n",
       "2010-01-07     9.702767\n",
       "2010-01-08     9.727731\n",
       "2010-01-11    10.077230\n",
       "2010-01-12     9.877516\n",
       "2010-01-13     9.719410\n",
       "2010-01-14     9.785981\n",
       "2010-01-15     9.652838\n",
       "2010-01-19     9.777659\n",
       "2010-01-20     9.577946\n",
       "2010-01-21     9.303339\n",
       "2010-01-22     8.754126\n",
       "2010-01-25     9.178517\n",
       "2010-01-26     9.311660\n",
       "2010-01-27     9.611231\n",
       "2010-01-28     9.494731\n",
       "2010-01-29     9.020411\n",
       "2010-02-01     9.253410\n",
       "2010-02-02     9.478089\n",
       "2010-02-03     9.686124\n",
       "2010-02-04     9.203482\n",
       "2010-02-05     9.078661\n",
       "2010-02-08     9.128589\n",
       "2010-02-09     9.278374\n",
       "2010-02-10     9.103625\n",
       "2010-02-11     9.303339\n",
       "2010-02-12     9.253410\n",
       "2010-02-16     9.419838\n",
       "                ...    \n",
       "2012-12-12     9.722885\n",
       "2012-12-13     9.553349\n",
       "2012-12-14     9.409243\n",
       "2012-12-17     9.655070\n",
       "2012-12-18     9.892420\n",
       "2012-12-19     9.943281\n",
       "2012-12-20     9.977189\n",
       "2012-12-21    10.053479\n",
       "2012-12-24    10.511226\n",
       "2012-12-26    10.841821\n",
       "2012-12-27    10.816391\n",
       "2012-12-28    10.909636\n",
       "2012-12-31    10.977450\n",
       "2013-01-02    11.189370\n",
       "2013-01-03    11.409767\n",
       "2013-01-04    11.503011\n",
       "2013-01-07    11.384337\n",
       "2013-01-08    11.316522\n",
       "2013-01-09    11.418244\n",
       "2013-01-10    11.723408\n",
       "2013-01-11    11.867514\n",
       "2013-01-14    11.859037\n",
       "2013-01-15    12.121818\n",
       "2013-01-16    12.054004\n",
       "2013-01-17    12.054004\n",
       "2013-01-18    11.960758\n",
       "2013-01-22    12.011619\n",
       "2013-01-23    11.765792\n",
       "2013-01-24    11.757315\n",
       "2013-01-25    11.596257\n",
       "Name: Adj Close, dtype: float64"
      ]
     },
     "execution_count": 8,
     "metadata": {},
     "output_type": "execute_result"
    }
   ],
   "source": [
    "f[\"Adj Close\"]"
   ]
  },
  {
   "cell_type": "code",
   "execution_count": null,
   "metadata": {
    "collapsed": true
   },
   "outputs": [],
   "source": []
  }
 ],
 "metadata": {
  "anaconda-cloud": {},
  "kernelspec": {
   "display_name": "Python [conda root]",
   "language": "python",
   "name": "conda-root-py"
  },
  "language_info": {
   "codemirror_mode": {
    "name": "ipython",
    "version": 2
   },
   "file_extension": ".py",
   "mimetype": "text/x-python",
   "name": "python",
   "nbconvert_exporter": "python",
   "pygments_lexer": "ipython2",
   "version": "2.7.12"
  }
 },
 "nbformat": 4,
 "nbformat_minor": 1
}
