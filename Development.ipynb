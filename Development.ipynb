{
 "cells": [
  {
   "cell_type": "code",
   "execution_count": 92,
   "metadata": {
    "collapsed": true
   },
   "outputs": [],
   "source": [
    "# Framework:\n",
    "#\n",
    "# 1. Individual stock:\n",
    "#      ---- GENERAL INPUT: only one sticker\n",
    "#   1.1. Parameter estimates:\n",
    "#      - plot_1: mean (2/5/10 years rolling windows in one plot)\n",
    "#      - plot_2: volatility (2/5/10 years rolling windows in one plot)\n",
    "#   1.2. VaR/ES\n",
    "#      - input: VaR prob, ES prob, rolling windows*, horizon, method**\n",
    "#      - plot: VaR and ES in one plot\n",
    "# 2. Portfolio: (portfolio lognormal/position normal)\n",
    "#      ---- GENERAL INPUT: stickers, initial investment, weights\n",
    "#   2.1. Parameter estimates:\n",
    "#      - plot_1: mean (2/5/10 years rolling windows in one plot)\n",
    "#      - plot_2: volatility (2/5/10 years rolling windows in one plot)\n",
    "#   2.2. VaR/ES (ASSUMPTION: portfolio following GBM)\n",
    "#      - input: VaR prob, ES prob, rolling window*, horizon, method**\n",
    "#      - plot: VaR and ES in one plot\n",
    "#\n",
    "#    * choose from 2/5/10 because parameters already computed above\n",
    "#   ** choose from historical/parametric/MC\n",
    "#  *** historical method: assumes relative price changes (log returns)\n",
    "#      parametric/MC methods: assumes portfolio follow GBM"
   ]
  },
  {
   "cell_type": "code",
   "execution_count": null,
   "metadata": {
    "collapsed": true
   },
   "outputs": [],
   "source": [
    "# TODO:\n",
    "#\n",
    "# 1. Portfolio parameters (hw6)\n",
    "# 2. Portfolio VaR/ES (hw6)\n",
    "# 3. Historical method (hw7)\n",
    "# 4. Monte Carlo (hw8)\n",
    "# 5. Plot"
   ]
  },
  {
   "cell_type": "code",
   "execution_count": 1,
   "metadata": {
    "collapsed": false
   },
   "outputs": [],
   "source": [
    "# import packages\n",
    "\n",
    "import pandas_datareader.data as web\n",
    "import datetime\n",
    "import pandas as pd\n",
    "import numpy as np\n",
    "import scipy.stats as stat\n",
    "import dateutil.relativedelta\n",
    "import matplotlib.pyplot as plt\n",
    "\n",
    "from __future__ import division"
   ]
  },
  {
   "cell_type": "code",
   "execution_count": null,
   "metadata": {
    "collapsed": true
   },
   "outputs": [],
   "source": [
    "##########################################################################################\n",
    "############################ PART 1: STOCK ANALYSIS ######################################\n",
    "##########################################################################################"
   ]
  },
  {
   "cell_type": "code",
   "execution_count": 31,
   "metadata": {
    "collapsed": false,
    "scrolled": true
   },
   "outputs": [],
   "source": [
    "# Set up input\n",
    "\n",
    "position_date_1 = datetime.datetime(2010, 12, 1)   # first day of plot\n",
    "end_date_1 = datetime.datetime(2016, 12, 1)        # pick up a date for testing, may remove later and set today as default\n",
    "ticker_1 = \"AAPL\"                                  # Stock ticker (string)\n",
    "\n",
    "# VaR/ES input\n",
    "v0_1 = 10000                                         # initial investment\n",
    "VaR_prob_1 = 0.99\n",
    "ES_prob_1 = 0.975\n",
    "window_1 = 2                                         # using 2 years historical data for estimation\n",
    "horizon_days_1 = 5                                   # 5 days VaR/ES\n",
    "\n",
    "# Not input, prepared for further analysis\n",
    "window_days_1 = window_1 * 252                         # convert to days\n",
    "horizon_1 = horizon_days_1/252                         # convert to years\n",
    "start_date_1 = position_date_1 - dateutil.relativedelta.relativedelta(years = 10)      # fetch data starting from start_date\n",
    "price_1 = web.DataReader(ticker_1, 'yahoo', start_date_1, end_date_1)['Adj Close'].sort_index(ascending = False)   "
   ]
  },
  {
   "cell_type": "code",
   "execution_count": 32,
   "metadata": {
    "collapsed": false
   },
   "outputs": [],
   "source": [
    "# Calculate estimated parameters for GBM based on x year (in days) rolling windows\n",
    "def gbm_est(prices, window_days):\n",
    "    rtn = -np.diff(np.log(prices))\n",
    "    rtnsq = rtn * rtn\n",
    "    mubar = list(reversed(np.convolve(rtn, np.ones((window_days,))/window_days, mode='valid')))\n",
    "    x2bar = list(reversed(np.convolve(rtnsq, np.ones((window_days,))/window_days, mode='valid')))\n",
    "    var = x2bar - np.square(mubar)\n",
    "    sigmabar = np.sqrt(np.maximum(var, np.zeros(len(var))))\n",
    "    sigma = sigmabar / np.sqrt(1/252)\n",
    "    mu = np.array(mubar)*252 + np.square(sigma)/2\n",
    "    return rtn, mu, sigma, np.array(mubar), sigmabar"
   ]
  },
  {
   "cell_type": "code",
   "execution_count": 33,
   "metadata": {
    "collapsed": false
   },
   "outputs": [],
   "source": [
    "# test with AAPL \n",
    "rtn_12, mu_12, sigma_12, mubar_12, sigmabar_12 = gbm_est(price_1, 2*252)\n",
    "rtn_15, mu_15, sigma_15, mubar_15, sigmabar_15 = gbm_est(price_1, 5*252)\n",
    "rtn_110, mu_110, sigma_110, mubar_110, sigmabar_110 = gbm_est(price_1, 10*252)"
   ]
  },
  {
   "cell_type": "code",
   "execution_count": 34,
   "metadata": {
    "collapsed": false
   },
   "outputs": [
    {
     "data": {
      "text/plain": [
       "array([-0.00936327, -0.0084693 , -0.00098642, ..., -0.17208061,\n",
       "        0.01855391, -0.02222338])"
      ]
     },
     "execution_count": 34,
     "metadata": {},
     "output_type": "execute_result"
    }
   ],
   "source": [
    "rtn_12   # compare with values computed in Matlab"
   ]
  },
  {
   "cell_type": "code",
   "execution_count": 35,
   "metadata": {
    "collapsed": false
   },
   "outputs": [
    {
     "data": {
      "text/plain": [
       "array([ 0.0912205 ,  0.12017773,  0.11768592, ...,  0.01951603,\n",
       "        0.03152471,  0.02877686])"
      ]
     },
     "execution_count": 35,
     "metadata": {},
     "output_type": "execute_result"
    }
   ],
   "source": [
    "mu_12   # compare with values computed in Matlab"
   ]
  },
  {
   "cell_type": "code",
   "execution_count": 45,
   "metadata": {
    "collapsed": false
   },
   "outputs": [
    {
     "data": {
      "text/plain": [
       "array([ 0.57278381,  0.57312372,  0.57305406, ...,  0.25495355,\n",
       "        0.25395576,  0.25402751])"
      ]
     },
     "execution_count": 45,
     "metadata": {},
     "output_type": "execute_result"
    }
   ],
   "source": [
    "sigma_12   # compare with values computed in Matlab"
   ]
  },
  {
   "cell_type": "code",
   "execution_count": 46,
   "metadata": {
    "collapsed": false
   },
   "outputs": [
    {
     "data": {
      "text/plain": [
       "array([ 0.54276587,  0.54782728,  0.5456464 , ...,  0.20579393,\n",
       "        0.19721042,  0.19689942])"
      ]
     },
     "execution_count": 46,
     "metadata": {},
     "output_type": "execute_result"
    }
   ],
   "source": [
    "mu_15   # compare with values computed in Matlab"
   ]
  },
  {
   "cell_type": "code",
   "execution_count": 47,
   "metadata": {
    "collapsed": false
   },
   "outputs": [
    {
     "data": {
      "text/plain": [
       "array([ 0.47007218,  0.46995073,  0.46989827, ...,  0.26228784,\n",
       "        0.26189725,  0.26190831])"
      ]
     },
     "execution_count": 47,
     "metadata": {},
     "output_type": "execute_result"
    }
   ],
   "source": [
    "sigma_15   # compare with values computed in Matlab"
   ]
  },
  {
   "cell_type": "code",
   "execution_count": 48,
   "metadata": {
    "collapsed": false
   },
   "outputs": [
    {
     "data": {
      "text/plain": [
       "array([ 0.45914206,  0.46168227,  0.45938395, ...,  0.2782567 ,\n",
       "        0.27969277,  0.27622896])"
      ]
     },
     "execution_count": 48,
     "metadata": {},
     "output_type": "execute_result"
    }
   ],
   "source": [
    "mu_110   # compare with values computed in Matlab"
   ]
  },
  {
   "cell_type": "code",
   "execution_count": 49,
   "metadata": {
    "collapsed": false
   },
   "outputs": [
    {
     "data": {
      "text/plain": [
       "array([ 0.43933745,  0.43927416,  0.43924459, ...,  0.33086901,\n",
       "        0.33079546,  0.33072318])"
      ]
     },
     "execution_count": 49,
     "metadata": {},
     "output_type": "execute_result"
    }
   ],
   "source": [
    "sigma_110   # compare with values computed in Matlab"
   ]
  },
  {
   "cell_type": "code",
   "execution_count": 98,
   "metadata": {
    "collapsed": false
   },
   "outputs": [],
   "source": [
    "length = min(len(mu_12), len(mu_15), len(mu_110), len(sigma_12), len(sigma_15), len(sigma_110))\n",
    "mu = pd.DataFrame({'Mu_2': mu_12[:length], 'Mu_5': mu_15[:length], 'Mu_10': mu_110[:length]}, \n",
    "                  index = price_1.index[:length])\n",
    "sigma = pd.DataFrame({'Sigma_2': sigma_12[:length], 'Sigma_5': sigma_15[:length], 'Sigma_10': sigma_110[:length]},\n",
    "                    index = price_1.index[:length])\n",
    "#p = pd.DataFrame(data = mu_12, index = price_1.index)\n",
    "# plt.plot(price_1.index,sigma_12)"
   ]
  },
  {
   "cell_type": "code",
   "execution_count": 111,
   "metadata": {
    "collapsed": false
   },
   "outputs": [
    {
     "data": {
      "image/png": "[encoded data removed]",
      "text/plain": [
       "<matplotlib.figure.Figure at 0x11cb78950>"
      ]
     },
     "metadata": {},
     "output_type": "display_data"
    }
   ],
   "source": [
    "# TODO:\n",
    "#   - define in a method\n",
    "#   - legend\n",
    "#   - can plot mu and sigma in different methods\n",
    "#   - fancy!!!!!!\n",
    "\n",
    "plt.plot(mu)\n",
    "plt.grid(True)\n",
    "plt.title('Return rate')\n",
    "# plt.show()\n",
    "plt.plot(sigma)\n",
    "plt.grid(True)\n",
    "plt.title('Return rate')\n",
    "# plt.show()"
   ]
  },
  {
   "cell_type": "code",
   "execution_count": 50,
   "metadata": {
    "collapsed": true
   },
   "outputs": [],
   "source": [
    "# Calculate t-day VaR with confidence degree p assuming gbm, --parametric method\n",
    "# Using parameter estimated above \n",
    "def gbm_VaR(v0, mu, sigma, p, t):\n",
    "    VaR = v0 - v0 * np.exp(sigma * np.sqrt(t) * stat.norm.ppf(1-p) + (mu - np.square(sigma)/2) * t)\n",
    "    return VaR"
   ]
  },
  {
   "cell_type": "code",
   "execution_count": 53,
   "metadata": {
    "collapsed": false
   },
   "outputs": [],
   "source": [
    "VaR_12 = gbm_VaR(v0_1, mu_12, sigma_12, VaR_prob_1, horizon_1)\n",
    "VaR_15 = gbm_VaR(v0_1, mu_15, sigma_15, VaR_prob_1, horizon_1)\n",
    "VaR_110 = gbm_VaR(v0_1, mu_110, sigma_110, VaR_prob_1, horizon_1)"
   ]
  },
  {
   "cell_type": "code",
   "execution_count": 54,
   "metadata": {
    "collapsed": false
   },
   "outputs": [
    {
     "data": {
      "text/plain": [
       "array([ 1723.2832322 ,  1719.4808539 ,  1719.69467144, ...,   803.87256717,\n",
       "         798.62680794,   799.34812896])"
      ]
     },
     "execution_count": 54,
     "metadata": {},
     "output_type": "execute_result"
    }
   ],
   "source": [
    "VaR_12   # compare with values computed in Matlab"
   ]
  },
  {
   "cell_type": "code",
   "execution_count": 55,
   "metadata": {
    "collapsed": false
   },
   "outputs": [
    {
     "data": {
      "text/plain": [
       "array([ 1353.75166064,  1352.52936965,  1352.75068763, ...,   792.3241649 ,\n",
       "         792.69510665,   792.78580512])"
      ]
     },
     "execution_count": 55,
     "metadata": {},
     "output_type": "execute_result"
    }
   ],
   "source": [
    "VaR_15   # compare with values computed in Matlab"
   ]
  },
  {
   "cell_type": "code",
   "execution_count": 56,
   "metadata": {
    "collapsed": false
   },
   "outputs": [
    {
     "data": {
      "text/plain": [
       "array([ 1278.29305978,  1277.66775266,  1277.97874878, ...,   987.62631049,\n",
       "         987.14794838,   987.54960425])"
      ]
     },
     "execution_count": 56,
     "metadata": {},
     "output_type": "execute_result"
    }
   ],
   "source": [
    "VaR_110   # compare with values computed in Matlab"
   ]
  },
  {
   "cell_type": "code",
   "execution_count": 58,
   "metadata": {
    "collapsed": true
   },
   "outputs": [],
   "source": [
    "# Calculate t-day ES with confidence degree p assuming gbm, --parametric method\\\n",
    "# Using parameter estimated above \n",
    "def gbm_ES(v0, mu, sigma, p, t):\n",
    "    ES = v0 * (1 - np.array(stat.norm.cdf(stat.norm.ppf(1-p) - np.sqrt(t)*sigma)) * np.array(np.exp(mu*t)/(1-p)))\n",
    "    return ES"
   ]
  },
  {
   "cell_type": "code",
   "execution_count": 59,
   "metadata": {
    "collapsed": false
   },
   "outputs": [],
   "source": [
    "ES_12 = gbm_ES(v0_1, mu_12, sigma_12, ES_prob_1, horizon_1)\n",
    "ES_15 = gbm_ES(v0_1, mu_15, sigma_15, ES_prob_1, horizon_1)\n",
    "ES_110 = gbm_ES(v0_1, mu_110, sigma_110, ES_prob_1, horizon_1)"
   ]
  },
  {
   "cell_type": "code",
   "execution_count": 60,
   "metadata": {
    "collapsed": false
   },
   "outputs": [
    {
     "data": {
      "text/plain": [
       "array([ 1727.83150326,  1724.03209912,  1724.24561802, ...,   806.96742872,\n",
       "         801.71398268,   802.43574208])"
      ]
     },
     "execution_count": 60,
     "metadata": {},
     "output_type": "execute_result"
    }
   ],
   "source": [
    "ES_12   # compare with values computed in Matlab"
   ]
  },
  {
   "cell_type": "code",
   "execution_count": 61,
   "metadata": {
    "collapsed": false
   },
   "outputs": [
    {
     "data": {
      "text/plain": [
       "array([ 1358.12207209,  1356.89982799,  1357.12078745, ...,   795.49179998,\n",
       "         795.85897408,   795.94974445])"
      ]
     },
     "execution_count": 61,
     "metadata": {},
     "output_type": "execute_result"
    }
   ],
   "source": [
    "ES_15   # compare with values computed in Matlab"
   ]
  },
  {
   "cell_type": "code",
   "execution_count": 62,
   "metadata": {
    "collapsed": false
   },
   "outputs": [
    {
     "data": {
      "text/plain": [
       "array([ 1282.54671021,  1281.92137   ,  1282.23205653, ...,   991.30403569,\n",
       "         990.82530106,   991.22623501])"
      ]
     },
     "execution_count": 62,
     "metadata": {},
     "output_type": "execute_result"
    }
   ],
   "source": [
    "ES_110   # compare with values computed in Matlab"
   ]
  },
  {
   "cell_type": "code",
   "execution_count": null,
   "metadata": {
    "collapsed": true
   },
   "outputs": [],
   "source": [
    "##########################################################################################\n",
    "######################## PART 2: PORTFOLIO ANALYSIS ######################################\n",
    "##########################################################################################"
   ]
  },
  {
   "cell_type": "code",
   "execution_count": null,
   "metadata": {
    "collapsed": true
   },
   "outputs": [],
   "source": [
    "# PART 2: portfolio analysis\n",
    "# Setting up input\n",
    "\n",
    "position_date_2 \n",
    "end_date_2\n",
    "v0 = 10000   # initial investment\n",
    "tickers_string = \"AAPL,AMZN\"   # a string; as an example, tickers separated by comma.\n",
    "tickers_list = tickers_string.split(\",\")  # split the string by the commas into a list of strings\n",
    "weight_string = \"0.5,0.5\"\n",
    "weight_list = map(float, weight_string.split(\",\"))  \n",
    "    # split the string by the commas, and map each string in the resulting list into a float"
   ]
  },
  {
   "cell_type": "code",
   "execution_count": 86,
   "metadata": {
    "collapsed": false
   },
   "outputs": [],
   "source": [
    "d={}\n",
    "for ticker in tickers_list:\n",
    "    d[\"{0}\".format(ticker)] = web.DataReader(ticker, 'yahoo', start_date, end_date)['Adj Close'].rename(ticker)\n",
    "df = pd.DataFrame(d).sort_index(ascending = False)       \n",
    "# create a pandas dataframe where each column is the Adjusted Close price for the respective ticker"
   ]
  },
  {
   "cell_type": "code",
   "execution_count": null,
   "metadata": {
    "collapsed": false
   },
   "outputs": [],
   "source": [
    "df['AAPL'][position_date]"
   ]
  },
  {
   "cell_type": "code",
   "execution_count": 89,
   "metadata": {
    "collapsed": true
   },
   "outputs": [],
   "source": [
    "shares = np.round(np.divide(v0 * np.array(weight_list), np.array(df.ix[position_date])))"
   ]
  },
  {
   "cell_type": "code",
   "execution_count": 90,
   "metadata": {
    "collapsed": false
   },
   "outputs": [
    {
     "data": {
      "text/plain": [
       "array([ 121.,   28.])"
      ]
     },
     "execution_count": 90,
     "metadata": {},
     "output_type": "execute_result"
    }
   ],
   "source": [
    "shares"
   ]
  }
 ],
 "metadata": {
  "anaconda-cloud": {},
  "kernelspec": {
   "display_name": "Python [conda root]",
   "language": "python",
   "name": "conda-root-py"
  },
  "language_info": {
   "codemirror_mode": {
    "name": "ipython",
    "version": 2
   },
   "file_extension": ".py",
   "mimetype": "text/x-python",
   "name": "python",
   "nbconvert_exporter": "python",
   "pygments_lexer": "ipython2",
   "version": "2.7.12"
  }
 },
 "nbformat": 4,
 "nbformat_minor": 1
}
