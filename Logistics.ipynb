{
 "cells": [
  {
   "cell_type": "raw",
   "metadata": {},
   "source": [
    "WEBSITE:\n",
    "1 stock only:\n",
    "    INPUT:\n",
    "        - Initial investment\n",
    "        - Tickers & percentage (max 5) (sum up to 100%) (adj close)\n",
    "            CHECK INPUT: ERROR BOX\n",
    "        - Start date / End date\n",
    "        - ## Using x years historical data for estimation\n",
    "        - ## x days VaR/ES\n",
    "        - VaR probability\n",
    "        - ES probability\n",
    "    OUTPUT: \n",
    "        - Historical VaR/ES\n",
    "        - Parametrical VaR/ES\n",
    "        - Monte Carlo VaR/ES\n",
    "        - Plot\n",
    "2 stock + option\n",
    "    INPUT: \n",
    "        - ALL above for stocks\n",
    "        - Options:\n",
    "            - ticker\n",
    "            - strike = current price (at the money)\n",
    "            - maturity = 1 year\n",
    "            - risk free rate \n",
    "            - vol\n",
    "            - put/call\n",
    "    OUTPUT:\n",
    "    \n",
    "\n",
    "1. \n"
   ]
  }
 ],
 "metadata": {
  "anaconda-cloud": {},
  "kernelspec": {
   "display_name": "Python [conda root]",
   "language": "python",
   "name": "conda-root-py"
  },
  "language_info": {
   "codemirror_mode": {
    "name": "ipython",
    "version": 2
   },
   "file_extension": ".py",
   "mimetype": "text/x-python",
   "name": "python",
   "nbconvert_exporter": "python",
   "pygments_lexer": "ipython2",
   "version": "2.7.12"
  }
 },
 "nbformat": 4,
 "nbformat_minor": 1
}
