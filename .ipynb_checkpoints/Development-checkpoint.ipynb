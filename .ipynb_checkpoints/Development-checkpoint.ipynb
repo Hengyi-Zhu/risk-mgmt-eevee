{
 "cells": [
  {
   "cell_type": "code",
   "execution_count": 20,
   "metadata": {
    "collapsed": false
   },
   "outputs": [],
   "source": [
    "# import packages\n",
    "\n",
    "import pandas_datareader.data as web\n",
    "import datetime\n",
    "import pandas as pd"
   ]
  },
  {
   "cell_type": "code",
   "execution_count": 11,
   "metadata": {
    "collapsed": false,
    "scrolled": true
   },
   "outputs": [],
   "source": [
    "# set up the parameters\n",
    "\n",
    "start = datetime.datetime(2010, 1, 1)\n",
    "end = datetime.datetime(2016, 1, 1)\n",
    "\n",
    "investment_initial = 1000000\n",
    "\n",
    "tickers_string = \"AAPL,AMZN,MSFT,GOOG\"   # a string; as an example, tickers separated by comma.\n",
    "tickers_list = tickers_string.split(\",\")  # split the string by the commas into a list of strings\n",
    "tickers_num = len(tickers_list)\n",
    "\n",
    "weight_string = \"0.25,0.25,0.25,0.25\"\n",
    "weight_list = map(float, weight_string.split(\",\"))  \n",
    "# split the string by the commas, and map each string in the resulting list into a float\n",
    "\n",
    "VaR_prob = 0.01\n",
    "ES_prob = 0.01\n",
    "name1 = 1 # Using x years historical data for estimation\n",
    "name2 = 5 # x days VaR/ES"
   ]
  },
  {
   "cell_type": "code",
   "execution_count": 28,
   "metadata": {
    "collapsed": false
   },
   "outputs": [],
   "source": [
    "d={}\n",
    "for ticker in tickers_list:\n",
    "    d[\"{0}\".format(ticker)] = web.DataReader(ticker, 'yahoo', start, end)['Adj Close'].rename(ticker)\n",
    "df = pd.DataFrame(d)       \n",
    "# create a pandas dataframe where each column is the Adjusted Close price for the respective ticker"
   ]
  },
  {
   "cell_type": "code",
   "execution_count": 29,
   "metadata": {
    "collapsed": false
   },
   "outputs": [
    {
     "data": {
      "text/html": [
       "<div>\n",
       "<table border=\"1\" class=\"dataframe\">\n",
       "  <thead>\n",
       "    <tr style=\"text-align: right;\">\n",
       "      <th></th>\n",
       "      <th>AAPL</th>\n",
       "      <th>AMZN</th>\n",
       "      <th>GOOG</th>\n",
       "      <th>MSFT</th>\n",
       "    </tr>\n",
       "    <tr>\n",
       "      <th>Date</th>\n",
       "      <th></th>\n",
       "      <th></th>\n",
       "      <th></th>\n",
       "      <th></th>\n",
       "    </tr>\n",
       "  </thead>\n",
       "  <tbody>\n",
       "    <tr>\n",
       "      <th>2010-01-04</th>\n",
       "      <td>27.847252</td>\n",
       "      <td>133.899994</td>\n",
       "      <td>313.062468</td>\n",
       "      <td>25.710416</td>\n",
       "    </tr>\n",
       "    <tr>\n",
       "      <th>2010-01-05</th>\n",
       "      <td>27.895396</td>\n",
       "      <td>134.690002</td>\n",
       "      <td>311.683844</td>\n",
       "      <td>25.718722</td>\n",
       "    </tr>\n",
       "    <tr>\n",
       "      <th>2010-01-06</th>\n",
       "      <td>27.451683</td>\n",
       "      <td>132.250000</td>\n",
       "      <td>303.826685</td>\n",
       "      <td>25.560888</td>\n",
       "    </tr>\n",
       "    <tr>\n",
       "      <th>2010-01-07</th>\n",
       "      <td>27.400936</td>\n",
       "      <td>130.000000</td>\n",
       "      <td>296.753749</td>\n",
       "      <td>25.295062</td>\n",
       "    </tr>\n",
       "    <tr>\n",
       "      <th>2010-01-08</th>\n",
       "      <td>27.583106</td>\n",
       "      <td>133.520004</td>\n",
       "      <td>300.709808</td>\n",
       "      <td>25.469510</td>\n",
       "    </tr>\n",
       "  </tbody>\n",
       "</table>\n",
       "</div>"
      ],
      "text/plain": [
       "                 AAPL        AMZN        GOOG       MSFT\n",
       "Date                                                    \n",
       "2010-01-04  27.847252  133.899994  313.062468  25.710416\n",
       "2010-01-05  27.895396  134.690002  311.683844  25.718722\n",
       "2010-01-06  27.451683  132.250000  303.826685  25.560888\n",
       "2010-01-07  27.400936  130.000000  296.753749  25.295062\n",
       "2010-01-08  27.583106  133.520004  300.709808  25.469510"
      ]
     },
     "execution_count": 29,
     "metadata": {},
     "output_type": "execute_result"
    }
   ],
   "source": [
    "df.head()   # print the top 5 rows of the dataframe"
   ]
  },
  {
   "cell_type": "code",
   "execution_count": 30,
   "metadata": {
    "collapsed": false
   },
   "outputs": [
    {
     "data": {
      "text/html": [
       "<div>\n",
       "<table border=\"1\" class=\"dataframe\">\n",
       "  <thead>\n",
       "    <tr style=\"text-align: right;\">\n",
       "      <th></th>\n",
       "      <th>AAPL</th>\n",
       "      <th>AMZN</th>\n",
       "      <th>GOOG</th>\n",
       "      <th>MSFT</th>\n",
       "    </tr>\n",
       "    <tr>\n",
       "      <th>Date</th>\n",
       "      <th></th>\n",
       "      <th></th>\n",
       "      <th></th>\n",
       "      <th></th>\n",
       "    </tr>\n",
       "  </thead>\n",
       "  <tbody>\n",
       "    <tr>\n",
       "      <th>2015-12-24</th>\n",
       "      <td>105.678733</td>\n",
       "      <td>662.789978</td>\n",
       "      <td>748.400024</td>\n",
       "      <td>54.183200</td>\n",
       "    </tr>\n",
       "    <tr>\n",
       "      <th>2015-12-28</th>\n",
       "      <td>104.495069</td>\n",
       "      <td>675.200012</td>\n",
       "      <td>762.510010</td>\n",
       "      <td>54.455724</td>\n",
       "    </tr>\n",
       "    <tr>\n",
       "      <th>2015-12-29</th>\n",
       "      <td>106.373279</td>\n",
       "      <td>693.969971</td>\n",
       "      <td>776.599976</td>\n",
       "      <td>55.039699</td>\n",
       "    </tr>\n",
       "    <tr>\n",
       "      <th>2015-12-30</th>\n",
       "      <td>104.984187</td>\n",
       "      <td>689.070007</td>\n",
       "      <td>771.000000</td>\n",
       "      <td>54.806110</td>\n",
       "    </tr>\n",
       "    <tr>\n",
       "      <th>2015-12-31</th>\n",
       "      <td>102.969025</td>\n",
       "      <td>675.890015</td>\n",
       "      <td>758.880005</td>\n",
       "      <td>53.998276</td>\n",
       "    </tr>\n",
       "  </tbody>\n",
       "</table>\n",
       "</div>"
      ],
      "text/plain": [
       "                  AAPL        AMZN        GOOG       MSFT\n",
       "Date                                                     \n",
       "2015-12-24  105.678733  662.789978  748.400024  54.183200\n",
       "2015-12-28  104.495069  675.200012  762.510010  54.455724\n",
       "2015-12-29  106.373279  693.969971  776.599976  55.039699\n",
       "2015-12-30  104.984187  689.070007  771.000000  54.806110\n",
       "2015-12-31  102.969025  675.890015  758.880005  53.998276"
      ]
     },
     "execution_count": 30,
     "metadata": {},
     "output_type": "execute_result"
    }
   ],
   "source": [
    "df.tail()   # print the last 5 rows of the dataframe"
   ]
  },
  {
   "cell_type": "code",
   "execution_count": 31,
   "metadata": {
    "collapsed": false,
    "scrolled": true
   },
   "outputs": [
    {
     "data": {
      "text/plain": [
       "Date\n",
       "2010-01-04     27.847252\n",
       "2010-01-05     27.895396\n",
       "2010-01-06     27.451683\n",
       "2010-01-07     27.400936\n",
       "2010-01-08     27.583106\n",
       "2010-01-11     27.339779\n",
       "2010-01-12     27.028789\n",
       "2010-01-13     27.410045\n",
       "2010-01-14     27.251297\n",
       "2010-01-15     26.795872\n",
       "2010-01-19     27.981276\n",
       "2010-01-20     27.550575\n",
       "2010-01-21     27.074331\n",
       "2010-01-22     25.731480\n",
       "2010-01-25     26.423726\n",
       "2010-01-26     26.797173\n",
       "2010-01-27     27.049609\n",
       "2010-01-28     25.931866\n",
       "2010-01-29     24.991091\n",
       "2010-02-01     25.338514\n",
       "2010-02-02     25.485551\n",
       "2010-02-03     25.924059\n",
       "2010-02-04     24.989789\n",
       "2010-02-05     25.433503\n",
       "2010-02-08     25.259140\n",
       "2010-02-09     25.528492\n",
       "2010-02-10     25.389262\n",
       "2010-02-11     25.851191\n",
       "2010-02-12     26.073698\n",
       "2010-02-16     26.466665\n",
       "                 ...    \n",
       "2015-11-18    114.737192\n",
       "2015-11-19    116.194760\n",
       "2015-11-20    116.703446\n",
       "2015-11-23    115.187179\n",
       "2015-11-24    116.292582\n",
       "2015-11-25    115.461084\n",
       "2015-11-27    115.245871\n",
       "2015-11-30    115.725211\n",
       "2015-12-01    114.786099\n",
       "2015-12-02    113.749172\n",
       "2015-12-03    112.692677\n",
       "2015-12-04    116.439319\n",
       "2015-12-07    115.705642\n",
       "2015-12-08    115.656735\n",
       "2015-12-09    113.103541\n",
       "2015-12-10    113.641566\n",
       "2015-12-11    110.716645\n",
       "2015-12-14    110.031884\n",
       "2015-12-15    108.085190\n",
       "2015-12-16    108.916689\n",
       "2015-12-17    106.608061\n",
       "2015-12-18    103.722263\n",
       "2015-12-21    104.993971\n",
       "2015-12-22    104.896149\n",
       "2015-12-23    106.246111\n",
       "2015-12-24    105.678733\n",
       "2015-12-28    104.495069\n",
       "2015-12-29    106.373279\n",
       "2015-12-30    104.984187\n",
       "2015-12-31    102.969025\n",
       "Name: AAPL, dtype: float64"
      ]
     },
     "execution_count": 31,
     "metadata": {},
     "output_type": "execute_result"
    }
   ],
   "source": [
    "df['AAPL']  # to access a column by its name. "
   ]
  },
  {
   "cell_type": "code",
   "execution_count": null,
   "metadata": {
    "collapsed": true
   },
   "outputs": [],
   "source": []
  }
 ],
 "metadata": {
  "anaconda-cloud": {},
  "kernelspec": {
   "display_name": "Python [conda root]",
   "language": "python",
   "name": "conda-root-py"
  },
  "language_info": {
   "codemirror_mode": {
    "name": "ipython",
    "version": 2
   },
   "file_extension": ".py",
   "mimetype": "text/x-python",
   "name": "python",
   "nbconvert_exporter": "python",
   "pygments_lexer": "ipython2",
   "version": "2.7.12"
  }
 },
 "nbformat": 4,
 "nbformat_minor": 1
}
