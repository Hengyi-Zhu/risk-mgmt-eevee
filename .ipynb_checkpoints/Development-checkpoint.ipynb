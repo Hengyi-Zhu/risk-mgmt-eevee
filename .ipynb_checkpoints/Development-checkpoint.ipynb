{
 "cells": [
  {
   "cell_type": "code",
   "execution_count": 92,
   "metadata": {
    "collapsed": true
   },
   "outputs": [],
   "source": [
    "# Framework:\n",
    "#\n",
    "# 1. Individual stock:\n",
    "#      ---- GENERAL INPUT: only one sticker\n",
    "#   1.1. Parameter estimates:\n",
    "#      - plot_1: mean (2/5/10 years rolling windows in one plot)\n",
    "#      - plot_2: volatility (2/5/10 years rolling windows in one plot)\n",
    "#   1.2. VaR/ES\n",
    "#      - input: VaR prob, ES prob, rolling windows*, horizon, method**\n",
    "#      - plot: VaR and ES in one plot\n",
    "# 2. Portfolio: (portfolio lognormal/position normal)\n",
    "#      ---- GENERAL INPUT: stickers, initial investment, weights\n",
    "#   2.1. Parameter estimates:\n",
    "#      - plot_1: mean (2/5/10 years rolling windows in one plot)\n",
    "#      - plot_2: volatility (2/5/10 years rolling windows in one plot)\n",
    "#   2.2. VaR/ES (ASSUMPTION: portfolio following GBM)\n",
    "#      - input: VaR prob, ES prob, rolling window*, horizon, method**\n",
    "#      - plot: VaR and ES in one plot\n",
    "#\n",
    "#    * choose from 2/5/10 because parameters already computed above\n",
    "#   ** choose from historical/parametric/MC\n",
    "#  *** historical method: assumes relative price changes (log returns)\n",
    "#      parametric/MC methods: assumes portfolio follow GBM"
   ]
  },
  {
   "cell_type": "code",
   "execution_count": null,
   "metadata": {
    "collapsed": true
   },
   "outputs": [],
   "source": [
    "# TODO:\n",
    "#\n",
    "# 1. Portfolio parameters (hw6)\n",
    "# 2. Portfolio VaR/ES (hw6)\n",
    "# 3. Historical method (hw7)\n",
    "# 4. Monte Carlo (hw8)\n",
    "# 5. Plot"
   ]
  },
  {
   "cell_type": "code",
   "execution_count": null,
   "metadata": {
    "collapsed": false
   },
   "outputs": [],
   "source": [
    "# import packages\n",
    "\n",
    "import pandas_datareader.data as web\n",
    "import datetime\n",
    "import pandas as pd\n",
    "import numpy as np\n",
    "import scipy.stats as stat\n",
    "import dateutil.relativedelta\n",
    "\n",
    "from __future__ import division"
   ]
  },
  {
   "cell_type": "code",
   "execution_count": 85,
   "metadata": {
    "collapsed": false,
    "scrolled": true
   },
   "outputs": [],
   "source": [
    "# set up the parameters\n",
    "position_date = datetime.datetime(2010, 12, 1)\n",
    "end_date = datetime.datetime(2016, 12, 1)\n",
    "\n",
    "v0 = 10000    # initial investment\n",
    "\n",
    "tickers_string = \"AAPL,AMZN\"   # a string; as an example, tickers separated by comma.\n",
    "tickers_list = tickers_string.split(\",\")  # split the string by the commas into a list of strings\n",
    "tickers_num = len(tickers_list)\n",
    "\n",
    "weight_string = \"0.5,0.5\"\n",
    "weight_list = map(float, weight_string.split(\",\"))  \n",
    "# split the string by the commas, and map each string in the resulting list into a float\n",
    "\n",
    "VaR_prob = 0.99\n",
    "ES_prob = 0.975\n",
    "window = 2    # Using x years historical data for estimation\n",
    "window_days = window * 252   \n",
    "horizon_days = 5     # x days VaR/ES\n",
    "horizon = horizon_days/252\n",
    "\n",
    "start_date = position_date - dateutil.relativedelta.relativedelta(years = window)      # fetch data starting from start_date"
   ]
  },
  {
   "cell_type": "code",
   "execution_count": 86,
   "metadata": {
    "collapsed": false
   },
   "outputs": [],
   "source": [
    "d={}\n",
    "for ticker in tickers_list:\n",
    "    d[\"{0}\".format(ticker)] = web.DataReader(ticker, 'yahoo', start_date, end_date)['Adj Close'].rename(ticker)\n",
    "df = pd.DataFrame(d).sort_index(ascending = False)       \n",
    "# create a pandas dataframe where each column is the Adjusted Close price for the respective ticker"
   ]
  },
  {
   "cell_type": "code",
   "execution_count": 87,
   "metadata": {
    "collapsed": false
   },
   "outputs": [],
   "source": [
    "# Calculate estimated parameters for GBM based on x year (in days) rolling windows\n",
    "def gbm_est(prices, window_days):\n",
    "    rtn = -np.diff(np.log(prices))\n",
    "    rtnsq = rtn * rtn\n",
    "    mubar = list(reversed(np.convolve(rtn, np.ones((window_days,))/window_days, mode='valid')))\n",
    "    x2bar = list(reversed(np.convolve(rtnsq, np.ones((window_days,))/window_days, mode='valid')))\n",
    "    var = x2bar - np.square(mubar)\n",
    "    sigmabar = np.sqrt(np.maximum(var, np.zeros(len(var))))\n",
    "    sigma = sigmabar / np.sqrt(1/252)\n",
    "    mu = np.array(mubar)*252 + np.square(sigma)/2\n",
    "    return rtn, mu, sigma, np.array(mubar), sigmabar"
   ]
  },
  {
   "cell_type": "code",
   "execution_count": 88,
   "metadata": {
    "collapsed": false
   },
   "outputs": [],
   "source": [
    "# test with AAPL \n",
    "rtn, mu, sigma, mubar, sigmabar = gbm_est(df[\"AAPL\"], window_days)"
   ]
  },
  {
   "cell_type": "code",
   "execution_count": null,
   "metadata": {
    "collapsed": false
   },
   "outputs": [],
   "source": [
    "df['AAPL'][position_date]"
   ]
  },
  {
   "cell_type": "code",
   "execution_count": null,
   "metadata": {
    "collapsed": false
   },
   "outputs": [],
   "source": [
    "rtn   # compare with values computed in Matlab"
   ]
  },
  {
   "cell_type": "code",
   "execution_count": null,
   "metadata": {
    "collapsed": false
   },
   "outputs": [],
   "source": [
    "mu   # compare with values computed in Matlab"
   ]
  },
  {
   "cell_type": "code",
   "execution_count": null,
   "metadata": {
    "collapsed": false
   },
   "outputs": [],
   "source": [
    "sigma   # compare with values computed in Matlab"
   ]
  },
  {
   "cell_type": "code",
   "execution_count": null,
   "metadata": {
    "collapsed": false
   },
   "outputs": [],
   "source": [
    "mubar   # compare with values computed in Matlab"
   ]
  },
  {
   "cell_type": "code",
   "execution_count": null,
   "metadata": {
    "collapsed": false
   },
   "outputs": [],
   "source": [
    "sigmabar   # compare with values computed in Matlab"
   ]
  },
  {
   "cell_type": "code",
   "execution_count": null,
   "metadata": {
    "collapsed": true
   },
   "outputs": [],
   "source": [
    "# Calculate t-day VaR with confidence degree p assuming gbm, --parametric method\n",
    "# Using parameter estimated above \n",
    "def gbm_VaR(v0, mu, sigma, p, t):\n",
    "    VaR = v0 - v0 * np.exp(sigma * np.sqrt(t) * stat.norm.ppf(1-p) + (mu - np.square(sigma)/2) * t)\n",
    "    return VaR"
   ]
  },
  {
   "cell_type": "code",
   "execution_count": null,
   "metadata": {
    "collapsed": true
   },
   "outputs": [],
   "source": [
    "VaR = gbm_VaR(v0, mu, sigma, VaR_prob, horizon)"
   ]
  },
  {
   "cell_type": "code",
   "execution_count": null,
   "metadata": {
    "collapsed": false
   },
   "outputs": [],
   "source": [
    "VaR   # compare with values computed in Matlab"
   ]
  },
  {
   "cell_type": "code",
   "execution_count": null,
   "metadata": {
    "collapsed": true
   },
   "outputs": [],
   "source": [
    "# Calculate t-day ES with confidence degree p assuming gbm, --parametric method\\\n",
    "# Using parameter estimated above \n",
    "def gbm_ES(v0, mu, sigma, p, t):\n",
    "    ES = v0 * (1 - np.array(stat.norm.cdf(stat.norm.ppf(1-p) - np.sqrt(t)*sigma)) * np.array(np.exp(mu*t)/(1-p)))\n",
    "    return ES"
   ]
  },
  {
   "cell_type": "code",
   "execution_count": null,
   "metadata": {
    "collapsed": true
   },
   "outputs": [],
   "source": [
    "ES = gbm_ES(v0, mu, sigma, ES_prob, horizon)"
   ]
  },
  {
   "cell_type": "code",
   "execution_count": null,
   "metadata": {
    "collapsed": false
   },
   "outputs": [],
   "source": [
    "ES   # compare with values computed in Matlab"
   ]
  },
  {
   "cell_type": "code",
   "execution_count": 89,
   "metadata": {
    "collapsed": true
   },
   "outputs": [],
   "source": [
    "shares = np.round(np.divide(v0 * np.array(weight_list), np.array(df.ix[position_date])))"
   ]
  },
  {
   "cell_type": "code",
   "execution_count": 90,
   "metadata": {
    "collapsed": false
   },
   "outputs": [
    {
     "data": {
      "text/plain": [
       "array([ 121.,   28.])"
      ]
     },
     "execution_count": 90,
     "metadata": {},
     "output_type": "execute_result"
    }
   ],
   "source": [
    "shares"
   ]
  }
 ],
 "metadata": {
  "anaconda-cloud": {},
  "kernelspec": {
   "display_name": "Python [conda root]",
   "language": "python",
   "name": "conda-root-py"
  },
  "language_info": {
   "codemirror_mode": {
    "name": "ipython",
    "version": 2
   },
   "file_extension": ".py",
   "mimetype": "text/x-python",
   "name": "python",
   "nbconvert_exporter": "python",
   "pygments_lexer": "ipython2",
   "version": "2.7.12"
  }
 },
 "nbformat": 4,
 "nbformat_minor": 1
}
